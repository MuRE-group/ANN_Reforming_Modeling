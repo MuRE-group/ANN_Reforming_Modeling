{
 "cells": [
  {
   "cell_type": "code",
   "execution_count": 20,
   "id": "loose-animation",
   "metadata": {},
   "outputs": [],
   "source": [
    "import pandas as pd\n",
    "\n",
    "data = pd.read_csv('Data_in_silico_125.csv')\n",
    "\n",
    "# Write the resulting data frame to the hdf5 file\n",
    "data.to_hdf('Data_in_silico_125.h5', key = 'data', mode = 'w', complevel = 9)"
   ]
  },
  {
   "cell_type": "code",
   "execution_count": null,
   "id": "muslim-reception",
   "metadata": {},
   "outputs": [],
   "source": [
    "df.to_hdf('database.h5', ds.name, table=True, mode='a')"
   ]
  }
 ],
 "metadata": {
  "kernelspec": {
   "display_name": "Python 3",
   "language": "python",
   "name": "python3"
  },
  "language_info": {
   "codemirror_mode": {
    "name": "ipython",
    "version": 3
   },
   "file_extension": ".py",
   "mimetype": "text/x-python",
   "name": "python",
   "nbconvert_exporter": "python",
   "pygments_lexer": "ipython3",
   "version": "3.7.10"
  }
 },
 "nbformat": 4,
 "nbformat_minor": 5
}
